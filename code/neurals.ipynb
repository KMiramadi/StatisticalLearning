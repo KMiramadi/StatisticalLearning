{
 "cells": [
  {
   "cell_type": "code",
   "execution_count": 2,
   "metadata": {},
   "outputs": [],
   "source": [
    "import pandas as pd\n",
    "import numpy as np\n",
    "from sklearn.model_selection import train_test_split, GridSearchCV\n",
    "import sklearn.neural_network\n",
    "from sklearn.metrics import confusion_matrix, classification_report\n",
    "import itertools\n",
    "import matplotlib.pyplot as plt\n",
    "from sklearn.preprocessing import StandardScaler \n",
    "from sklearn.neighbors import KNeighborsClassifier\n",
    "import csv\n"
   ]
  },
  {
   "cell_type": "code",
   "execution_count": 3,
   "metadata": {},
   "outputs": [
    {
     "data": {
      "text/html": [
       "<div>\n",
       "<style scoped>\n",
       "    .dataframe tbody tr th:only-of-type {\n",
       "        vertical-align: middle;\n",
       "    }\n",
       "\n",
       "    .dataframe tbody tr th {\n",
       "        vertical-align: top;\n",
       "    }\n",
       "\n",
       "    .dataframe thead th {\n",
       "        text-align: right;\n",
       "    }\n",
       "</style>\n",
       "<table border=\"1\" class=\"dataframe\">\n",
       "  <thead>\n",
       "    <tr style=\"text-align: right;\">\n",
       "      <th></th>\n",
       "      <th>mode</th>\n",
       "      <th>key</th>\n",
       "      <th>danceability</th>\n",
       "      <th>energy</th>\n",
       "      <th>loudness</th>\n",
       "      <th>speechiness</th>\n",
       "      <th>acousticness</th>\n",
       "      <th>instrumentalness</th>\n",
       "      <th>liveness</th>\n",
       "      <th>valence</th>\n",
       "      <th>tempo</th>\n",
       "    </tr>\n",
       "  </thead>\n",
       "  <tbody>\n",
       "    <tr>\n",
       "      <th>0</th>\n",
       "      <td>1</td>\n",
       "      <td>5</td>\n",
       "      <td>1.061590</td>\n",
       "      <td>-0.046587</td>\n",
       "      <td>0.300757</td>\n",
       "      <td>-0.464073</td>\n",
       "      <td>-0.079908</td>\n",
       "      <td>-0.537923</td>\n",
       "      <td>-0.563034</td>\n",
       "      <td>-0.303212</td>\n",
       "      <td>-0.294702</td>\n",
       "    </tr>\n",
       "    <tr>\n",
       "      <th>1</th>\n",
       "      <td>0</td>\n",
       "      <td>11</td>\n",
       "      <td>-1.433846</td>\n",
       "      <td>1.154419</td>\n",
       "      <td>0.315478</td>\n",
       "      <td>3.035649</td>\n",
       "      <td>-0.851176</td>\n",
       "      <td>-0.422346</td>\n",
       "      <td>3.592413</td>\n",
       "      <td>-1.500278</td>\n",
       "      <td>-0.814173</td>\n",
       "    </tr>\n",
       "    <tr>\n",
       "      <th>2</th>\n",
       "      <td>0</td>\n",
       "      <td>1</td>\n",
       "      <td>0.633348</td>\n",
       "      <td>0.383282</td>\n",
       "      <td>0.244817</td>\n",
       "      <td>0.224070</td>\n",
       "      <td>-0.582249</td>\n",
       "      <td>-0.538041</td>\n",
       "      <td>-0.000919</td>\n",
       "      <td>0.554792</td>\n",
       "      <td>-0.367778</td>\n",
       "    </tr>\n",
       "    <tr>\n",
       "      <th>3</th>\n",
       "      <td>1</td>\n",
       "      <td>0</td>\n",
       "      <td>-0.995030</td>\n",
       "      <td>0.734395</td>\n",
       "      <td>0.595879</td>\n",
       "      <td>-0.543040</td>\n",
       "      <td>-0.844138</td>\n",
       "      <td>-0.535957</td>\n",
       "      <td>-0.531514</td>\n",
       "      <td>-1.191322</td>\n",
       "      <td>0.641569</td>\n",
       "    </tr>\n",
       "    <tr>\n",
       "      <th>4</th>\n",
       "      <td>1</td>\n",
       "      <td>9</td>\n",
       "      <td>0.987573</td>\n",
       "      <td>0.429222</td>\n",
       "      <td>0.623919</td>\n",
       "      <td>-0.679280</td>\n",
       "      <td>-0.656660</td>\n",
       "      <td>-0.538041</td>\n",
       "      <td>0.041108</td>\n",
       "      <td>1.710086</td>\n",
       "      <td>-0.114839</td>\n",
       "    </tr>\n",
       "  </tbody>\n",
       "</table>\n",
       "</div>"
      ],
      "text/plain": [
       "   mode  key  danceability    energy  loudness  speechiness  acousticness  \\\n",
       "0     1    5      1.061590 -0.046587  0.300757    -0.464073     -0.079908   \n",
       "1     0   11     -1.433846  1.154419  0.315478     3.035649     -0.851176   \n",
       "2     0    1      0.633348  0.383282  0.244817     0.224070     -0.582249   \n",
       "3     1    0     -0.995030  0.734395  0.595879    -0.543040     -0.844138   \n",
       "4     1    9      0.987573  0.429222  0.623919    -0.679280     -0.656660   \n",
       "\n",
       "   instrumentalness  liveness   valence     tempo  \n",
       "0         -0.537923 -0.563034 -0.303212 -0.294702  \n",
       "1         -0.422346  3.592413 -1.500278 -0.814173  \n",
       "2         -0.538041 -0.000919  0.554792 -0.367778  \n",
       "3         -0.535957 -0.531514 -1.191322  0.641569  \n",
       "4         -0.538041  0.041108  1.710086 -0.114839  "
      ]
     },
     "execution_count": 3,
     "metadata": {},
     "output_type": "execute_result"
    }
   ],
   "source": [
    "data=pd.read_csv(\"../project_train.csv\")\n",
    "features=data.drop(\"Label\", axis=1)\n",
    "targets=data[\"Label\"]\n",
    "X_train, X_test, Y_train, Y_test=train_test_split(features, targets, test_size=0.2, random_state=20)\n",
    "\n",
    "\n",
    "exclude=['mode', 'key']\n",
    "columns_to_standardize=X_train.drop(exclude, axis=1)\n",
    "excluded_cols=X_train[exclude]\n",
    "scaler = StandardScaler()\n",
    "scaled_columns = pd.DataFrame(scaler.fit_transform(columns_to_standardize), columns=columns_to_standardize.columns)\n",
    "\n",
    "X_train_scaled = pd.concat([excluded_cols.reset_index(drop=True), scaled_columns], axis=1)\n",
    "\n",
    "exclude=['mode', 'key']\n",
    "columns_to_standardize=X_test.drop(exclude, axis=1)\n",
    "excluded_cols=X_test[exclude]\n",
    "X_test_scaled=scaler.transform(columns_to_standardize)\n",
    "X_test_scaled = pd.DataFrame(scaler.transform(columns_to_standardize), columns=columns_to_standardize.columns)\n",
    "X_test_scaled = pd.concat([excluded_cols.reset_index(drop=True), X_test_scaled], axis=1)\n",
    "\n",
    "\n",
    "X_train_scaled.head()\n",
    "\n"
   ]
  },
  {
   "cell_type": "code",
   "execution_count": 4,
   "metadata": {},
   "outputs": [
    {
     "name": "stdout",
     "output_type": "stream",
     "text": [
      "0.8118811881188119\n"
     ]
    }
   ],
   "source": [
    "\n",
    "knn_model=KNeighborsClassifier(n_neighbors=3,p=1,weights='distance')\n",
    "knn_model.fit(X_train_scaled, Y_train)\n",
    "print(knn_model.score(X_test_scaled,Y_test))"
   ]
  },
  {
   "cell_type": "code",
   "execution_count": 5,
   "metadata": {},
   "outputs": [
    {
     "name": "stdout",
     "output_type": "stream",
     "text": [
      "[[46 11]\n",
      " [15 29]]\n",
      "              precision    recall  f1-score   support\n",
      "\n",
      "           0       0.75      0.81      0.78        57\n",
      "           1       0.72      0.66      0.69        44\n",
      "\n",
      "    accuracy                           0.74       101\n",
      "   macro avg       0.74      0.73      0.74       101\n",
      "weighted avg       0.74      0.74      0.74       101\n",
      "\n"
     ]
    }
   ],
   "source": [
    "layer_sizes=[10, 25, 50,75]\n",
    "max_layers=4\n",
    "hidden_layer_sizes = [tuple(layer_size) for n in range(1, max_layers + 1) for layer_size in itertools.product(layer_sizes, repeat=n)]\n",
    "hidden_layer_sizes=[(25,10,75,10),(10,25),(25,75),(50,75),(75,25),(50,25),(10,25,75)]\n",
    "params={'hidden_layer_sizes' : hidden_layer_sizes, 'alpha' : [0, 0.0001, 0.001],\n",
    "        'learning_rate_init': [0.00001, 0.0001, 0.001],  'max_iter': [10000]  }\n",
    "\n",
    "\n",
    "#neural_network=GridSearchCV(sklearn.neural_network.MLPClassifier(), params, n_jobs=-1)\n",
    "neural_network=sklearn.neural_network.MLPClassifier(alpha=0.001, hidden_layer_sizes=(50, 75), learning_rate_init=0.0001, max_iter=15000)\n",
    "neural_network.fit(X_train_scaled, Y_train)\n",
    "\n",
    "y_pred=neural_network.predict(X_test_scaled)\n",
    "#print(neural_network.best_params_)\n",
    "Y_test.reset_index(drop=True)\n",
    "\n",
    "\n",
    "con_matrix=confusion_matrix(Y_test, y_pred)\n",
    "report = classification_report(Y_test, y_pred)\n",
    "print(con_matrix)\n",
    "print(report)\n",
    "\n",
    "#{'alpha': 0.0001, 'hidden_layer_sizes': (25,), 'learning_rate_init': 0.001, 'max_iter': 10000} NOT STANDARDIZED\n",
    "#{'alpha': 0.0001, 'hidden_layer_sizes': (25, 10, 75, 10), 'learning_rate_init': 0.0001, 'max_iter': 10000} STANDARDIZED\n"
   ]
  },
  {
   "cell_type": "code",
   "execution_count": 6,
   "metadata": {},
   "outputs": [
    {
     "name": "stdout",
     "output_type": "stream",
     "text": [
      "0.7425742574257426\n",
      "Accuracy: 0.8316831683168316\n"
     ]
    },
    {
     "data": {
      "text/plain": [
       "'\"\\nknn_vec_acc=np.zeros(10)\\naccuracy_vec=np.zeros(10)\\nfor l in range(0,10):\\n    print(l)\\n    X_train, X_test, Y_train, Y_test=train_test_split(features, targets, test_size=0.2)\\n\\n    exclude=[\\'mode\\', \\'key\\']\\n    columns_to_standardize=X_train.drop(exclude, axis=1)\\n    excluded_cols=X_train[exclude]\\n    scaler = StandardScaler()\\n    scaled_columns = pd.DataFrame(scaler.fit_transform(columns_to_standardize), columns=columns_to_standardize.columns)\\n\\n    X_train_scaled = pd.concat([excluded_cols.reset_index(drop=True), scaled_columns], axis=1)\\n\\n    exclude=[\\'mode\\', \\'key\\']\\n    columns_to_standardize=X_test.drop(exclude, axis=1)\\n    excluded_cols=X_test[exclude]\\n    X_test_scaled=scaler.transform(columns_to_standardize)\\n    X_test_scaled = pd.DataFrame(scaler.transform(columns_to_standardize), columns=columns_to_standardize.columns)\\n    X_test_scaled = pd.concat([excluded_cols.reset_index(drop=True), X_test_scaled], axis=1)\\n\\n    stacked_model.fit(X_train_scaled,Y_train)\\n    accuracy_vec[l] = stacked_model.score(X_test_scaled, Y_test)\\n    print(f\"stacked {accuracy_vec[l]}\")\\n    #print(f\"Accuracy: {accuracy}\")\\n\\nprint(np.mean(accuracy_vec))\\nprint(np.std(accuracy_vec))'"
      ]
     },
     "execution_count": 6,
     "metadata": {},
     "output_type": "execute_result"
    }
   ],
   "source": [
    "from sklearn.svm import SVC \n",
    "from sklearn.ensemble import RandomForestClassifier\n",
    "from sklearn.linear_model import LogisticRegression\n",
    "from sklearn.ensemble import StackingClassifier\n",
    "from sklearn.discriminant_analysis import QuadraticDiscriminantAnalysis, LinearDiscriminantAnalysis\n",
    "from sklearn.neighbors import KNeighborsClassifier\n",
    "\n",
    "#svm_params={'C':[1,10,100,1000],'gamma':[1,0.1,0.001,0.0001], 'kernel':['linear','rbf'], 'probability': [True]}\n",
    "#svm_model=GridSearchCV(SVC(),svm_params, n_jobs=-1) #{'C': 10, 'gamma': 1, 'kernel': 'linear', 'probability': True}\n",
    "svm_model=SVC(C=200,kernel='linear', probability=True)\n",
    "svm_model.fit(X_train_scaled,Y_train)\n",
    "#print(svm_model.best_params_)\n",
    "\n",
    "#rfc_params={'n_estimators':[100, 200, 400, 800], 'criterion':[\"gini\", \"entropy\"]}\n",
    "#rfc_model=GridSearchCV(RandomForestClassifier(), rfc_params, n_jobs=-1)\n",
    "rfc_model=RandomForestClassifier(criterion='gini',n_estimators=400, max_depth=40)\n",
    "rfc_model.fit(X_train_scaled,Y_train)\n",
    "\n",
    "\n",
    "knn_model=KNeighborsClassifier(n_neighbors=3,p=1,weights='distance')\n",
    "knn_model.fit(X_train_scaled, Y_train)\n",
    "\n",
    "lda_model=LinearDiscriminantAnalysis()\n",
    "lda_model.fit(X_train_scaled,Y_train)\n",
    "\n",
    "meta_model=LogisticRegression()\n",
    "\n",
    "stacked_model = StackingClassifier(\n",
    "    estimators=[('svm', svm_model), ('ann', neural_network),('knn',knn_model) ,('rf', rfc_model), ('lda',lda_model)],\n",
    "    final_estimator=meta_model,\n",
    "    n_jobs=-1,\n",
    "    cv=\"prefit\"\n",
    ")\n",
    "stacked_model.fit(X_train_scaled,Y_train)\n",
    "\n",
    "\n",
    "accuracy=stacked_model.score(X_test_scaled,Y_test)\n",
    "\n",
    "print(f\"Accuracy: {accuracy}\")\n",
    "\"\"\"\"\n",
    "knn_vec_acc=np.zeros(10)\n",
    "accuracy_vec=np.zeros(10)\n",
    "for l in range(0,10):\n",
    "    print(l)\n",
    "    X_train, X_test, Y_train, Y_test=train_test_split(features, targets, test_size=0.2)\n",
    "\n",
    "    exclude=['mode', 'key']\n",
    "    columns_to_standardize=X_train.drop(exclude, axis=1)\n",
    "    excluded_cols=X_train[exclude]\n",
    "    scaler = StandardScaler()\n",
    "    scaled_columns = pd.DataFrame(scaler.fit_transform(columns_to_standardize), columns=columns_to_standardize.columns)\n",
    "\n",
    "    X_train_scaled = pd.concat([excluded_cols.reset_index(drop=True), scaled_columns], axis=1)\n",
    "\n",
    "    exclude=['mode', 'key']\n",
    "    columns_to_standardize=X_test.drop(exclude, axis=1)\n",
    "    excluded_cols=X_test[exclude]\n",
    "    X_test_scaled=scaler.transform(columns_to_standardize)\n",
    "    X_test_scaled = pd.DataFrame(scaler.transform(columns_to_standardize), columns=columns_to_standardize.columns)\n",
    "    X_test_scaled = pd.concat([excluded_cols.reset_index(drop=True), X_test_scaled], axis=1)\n",
    "\n",
    "    stacked_model.fit(X_train_scaled,Y_train)\n",
    "    accuracy_vec[l] = stacked_model.score(X_test_scaled, Y_test)\n",
    "    print(f\"stacked {accuracy_vec[l]}\")\n",
    "    #print(f\"Accuracy: {accuracy}\")\n",
    "\n",
    "print(np.mean(accuracy_vec))\n",
    "print(np.std(accuracy_vec))\"\"\"\n",
    "\n",
    "\n",
    "\n"
   ]
  },
  {
   "cell_type": "code",
   "execution_count": 86,
   "metadata": {},
   "outputs": [
    {
     "name": "stdout",
     "output_type": "stream",
     "text": [
      "0.8217821782178217\n",
      "{'criterion': 'entropy', 'n_estimators': 200}\n"
     ]
    }
   ],
   "source": [
    "from sklearn.ensemble import RandomForestClassifier\n",
    "rfc_params={'n_estimators':[100, 200, 400, 800], 'criterion':[\"gini\", \"entropy\"]}\n",
    "rfc_model=GridSearchCV(RandomForestClassifier(), rfc_params, n_jobs=-1)\n",
    "rfc_model.fit(X_train_scaled,Y_train)\n",
    "print(rfc_model.score(X_test_scaled,Y_test))\n",
    "print(rfc_model.best_params_)"
   ]
  },
  {
   "cell_type": "code",
   "execution_count": 33,
   "metadata": {},
   "outputs": [
    {
     "name": "stdout",
     "output_type": "stream",
     "text": [
      "0.7425742574257426\n"
     ]
    }
   ],
   "source": [
    "from sklearn.svm import SVC \n",
    "from sklearn.ensemble import RandomForestClassifier\n",
    "svm_params={'C':[100,200,400,500,800],'gamma':[1,0.1,0.001,0.0001], 'kernel':['linear','rbf', 'poly', 'sigmoid'],\n",
    "             'probability': [True]}\n",
    "svm_model=GridSearchCV(SVC(),svm_params, n_jobs=-1)\n",
    "svm_model.fit(X_train_scaled,Y_train)\n",
    "print(svm_model.score(X_test_scaled,Y_test))\n"
   ]
  },
  {
   "cell_type": "code",
   "execution_count": 54,
   "metadata": {},
   "outputs": [
    {
     "name": "stdout",
     "output_type": "stream",
     "text": [
      "{'C': 200, 'degree': 2, 'gamma': 1, 'kernel': 'linear', 'probability': True}\n"
     ]
    }
   ],
   "source": [
    "print(svm_model.best_params_)"
   ]
  },
  {
   "cell_type": "code",
   "execution_count": 43,
   "metadata": {},
   "outputs": [
    {
     "name": "stdout",
     "output_type": "stream",
     "text": [
      "0.7425742574257426\n",
      "{'n_neighbors': 3, 'p': 1, 'weights': 'uniform'}\n"
     ]
    }
   ],
   "source": [
    "from sklearn.neighbors import KNeighborsClassifier\n",
    "\n",
    "knn_params={'n_neighbors': [3,5,7,9,11,13,15,17,19,21], 'weights':['uniform','distance'], 'p':[1,2,3]}\n",
    "knn_model=GridSearchCV(KNeighborsClassifier(), knn_params, n_jobs=-1)\n",
    "knn_model.fit(X_train_scaled, Y_train)\n",
    "print(knn_model.score(X_test_scaled,Y_test))\n",
    "print(knn_model.best_params_)\n"
   ]
  },
  {
   "cell_type": "code",
   "execution_count": 26,
   "metadata": {},
   "outputs": [
    {
     "data": {
      "text/plain": [
       "{'criterion': 'gini', 'max_depth': 40, 'n_estimators': 400}"
      ]
     },
     "execution_count": 26,
     "metadata": {},
     "output_type": "execute_result"
    }
   ],
   "source": [
    "rfc_params={'n_estimators':[100, 200,300, 400, 800], 'criterion':[\"gini\", \"entropy\"], 'max_depth':[10,20,30,40,50]}\n",
    "rfc_model=GridSearchCV(RandomForestClassifier(), rfc_params, n_jobs=-1)\n",
    "rfc_model.fit(X_train_scaled,Y_train)\n",
    "rfc_model.best_params_"
   ]
  },
  {
   "cell_type": "code",
   "execution_count": 11,
   "metadata": {},
   "outputs": [],
   "source": [
    "test_data=pd.read_csv(\"../project_test.csv\")\n",
    "\n",
    "exclude=['mode', 'key']\n",
    "columns_to_standardize=test_data.drop(exclude, axis=1)\n",
    "excluded_cols=test_data[exclude]\n",
    "test_data_scaled=scaler.transform(columns_to_standardize)\n",
    "test_data_scaled = pd.DataFrame(scaler.transform(columns_to_standardize), columns=columns_to_standardize.columns)\n",
    "test_data_scaled = pd.concat([excluded_cols.reset_index(drop=True), test_data_scaled], axis=1)\n",
    "\n",
    "\n",
    "test_data_scaled.head()\n",
    "\n",
    "predictions_final=stacked_model.predict(test_data_scaled)\n",
    "pd.DataFrame(predictions_final).to_csv('FINAL_PREDICTION.csv',index=False)"
   ]
  }
 ],
 "metadata": {
  "kernelspec": {
   "display_name": "venv",
   "language": "python",
   "name": "python3"
  },
  "language_info": {
   "codemirror_mode": {
    "name": "ipython",
    "version": 3
   },
   "file_extension": ".py",
   "mimetype": "text/x-python",
   "name": "python",
   "nbconvert_exporter": "python",
   "pygments_lexer": "ipython3",
   "version": "3.12.5"
  }
 },
 "nbformat": 4,
 "nbformat_minor": 2
}
